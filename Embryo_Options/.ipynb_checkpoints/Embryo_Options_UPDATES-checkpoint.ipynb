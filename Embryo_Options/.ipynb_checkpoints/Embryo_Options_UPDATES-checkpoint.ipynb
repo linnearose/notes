{
 "cells": [
  {
   "cell_type": "markdown",
   "metadata": {},
   "source": [
    "## Embryo Options | Inventory Exercises - Data Analyst\n",
    "### Linnea Miller | 5.12.19\n",
    "\n",
    "## Updates"
   ]
  },
  {
   "cell_type": "markdown",
   "metadata": {},
   "source": [
    "## -------------------------------------------------------------------"
   ]
  },
  {
   "cell_type": "markdown",
   "metadata": {},
   "source": [
    "### Load data"
   ]
  },
  {
   "cell_type": "code",
   "execution_count": 1,
   "metadata": {},
   "outputs": [],
   "source": [
    "import pandas as pd\n",
    "from pandas import ExcelWriter, ExcelFile"
   ]
  },
  {
   "cell_type": "code",
   "execution_count": 2,
   "metadata": {},
   "outputs": [],
   "source": [
    "# Read in .xlsx file\n",
    "charges_x = pd.read_excel('Full Embryo Cryo Inventory-Scrubbed.xlsx', \n",
    "              sheet_name = 'PostCharges - Export')\n",
    "\n",
    "countries_x =  pd.read_excel('Full Embryo Cryo Inventory-Scrubbed.xlsx', \n",
    "              sheet_name = 'Countries')\n",
    "\n",
    "territories_x =  pd.read_excel('Full Embryo Cryo Inventory-Scrubbed.xlsx', \n",
    "              sheet_name = 'StateProvinceTerritories')\n",
    "\n",
    "# Read in .csv file to establish red rows\n",
    "red_rows_x = pd.read_csv('./red_rows.csv')\n"
   ]
  },
  {
   "cell_type": "code",
   "execution_count": 3,
   "metadata": {},
   "outputs": [
    {
     "data": {
      "text/plain": [
       "(2203, 21)"
      ]
     },
     "execution_count": 3,
     "metadata": {},
     "output_type": "execute_result"
    }
   ],
   "source": [
    "charges_x.shape"
   ]
  },
  {
   "cell_type": "code",
   "execution_count": 4,
   "metadata": {},
   "outputs": [],
   "source": [
    "# Read in .csv files\n",
    "charges = pd.read_csv('./PostCharges - Export.csv')\n",
    "territories = pd.read_csv('./StateProvinceTerritories.csv')\n",
    "countries = pd.read_csv('./Countries.csv')\n",
    "red_rows = pd.read_csv('./red_rows.csv')"
   ]
  },
  {
   "cell_type": "code",
   "execution_count": 5,
   "metadata": {},
   "outputs": [
    {
     "data": {
      "text/plain": [
       "(2201, 21)"
      ]
     },
     "execution_count": 5,
     "metadata": {},
     "output_type": "execute_result"
    }
   ],
   "source": [
    "charges.shape"
   ]
  },
  {
   "cell_type": "markdown",
   "metadata": {},
   "source": [
    "`-`\n",
    "***Why are there 2 more rows when imported as an .xlsx file?***\n",
    "`-`\n",
    "\n",
    "Because the last two rows in the .xlsx import are null."
   ]
  },
  {
   "cell_type": "code",
   "execution_count": 6,
   "metadata": {},
   "outputs": [],
   "source": [
    "charges_x.drop(charges_x.index[[2201, 2202]], inplace=True)"
   ]
  },
  {
   "cell_type": "code",
   "execution_count": 7,
   "metadata": {},
   "outputs": [
    {
     "data": {
      "text/plain": [
       "(2201, 21)"
      ]
     },
     "execution_count": 7,
     "metadata": {},
     "output_type": "execute_result"
    }
   ],
   "source": [
    "charges_x.shape"
   ]
  },
  {
   "cell_type": "markdown",
   "metadata": {},
   "source": [
    "### Overview of data"
   ]
  },
  {
   "cell_type": "markdown",
   "metadata": {},
   "source": [
    "##### 1. `charges`"
   ]
  },
  {
   "cell_type": "code",
   "execution_count": 8,
   "metadata": {
    "scrolled": true
   },
   "outputs": [
    {
     "data": {
      "text/html": [
       "<div>\n",
       "<style scoped>\n",
       "    .dataframe tbody tr th:only-of-type {\n",
       "        vertical-align: middle;\n",
       "    }\n",
       "\n",
       "    .dataframe tbody tr th {\n",
       "        vertical-align: top;\n",
       "    }\n",
       "\n",
       "    .dataframe thead th {\n",
       "        text-align: right;\n",
       "    }\n",
       "</style>\n",
       "<table border=\"1\" class=\"dataframe\">\n",
       "  <thead>\n",
       "    <tr style=\"text-align: right;\">\n",
       "      <th></th>\n",
       "      <th>EMR</th>\n",
       "      <th>Last Name</th>\n",
       "      <th>First Name</th>\n",
       "      <th>DOB</th>\n",
       "      <th>Partner</th>\n",
       "      <th># Embryos</th>\n",
       "      <th># Oocytes</th>\n",
       "      <th>Tank</th>\n",
       "      <th>Canister-Color</th>\n",
       "      <th>Donated From</th>\n",
       "      <th>...</th>\n",
       "      <th>Billing Month</th>\n",
       "      <th>Comments</th>\n",
       "      <th>Address 1</th>\n",
       "      <th>Address 2</th>\n",
       "      <th>City</th>\n",
       "      <th>State</th>\n",
       "      <th>Zip</th>\n",
       "      <th>Country</th>\n",
       "      <th>Primary Phone</th>\n",
       "      <th>Email</th>\n",
       "    </tr>\n",
       "  </thead>\n",
       "  <tbody>\n",
       "    <tr>\n",
       "      <th>0</th>\n",
       "      <td>503113.0</td>\n",
       "      <td>Last503113</td>\n",
       "      <td>First503113</td>\n",
       "      <td>11/4/72</td>\n",
       "      <td>PartnerLast503113, PartnerFirst503113</td>\n",
       "      <td>3</td>\n",
       "      <td>0.0</td>\n",
       "      <td>V</td>\n",
       "      <td>11-Blue</td>\n",
       "      <td>NaN</td>\n",
       "      <td>...</td>\n",
       "      <td>December</td>\n",
       "      <td>NaN</td>\n",
       "      <td>107 Main St.</td>\n",
       "      <td>NaN</td>\n",
       "      <td>West Jordan</td>\n",
       "      <td>UT</td>\n",
       "      <td>84081</td>\n",
       "      <td>USA</td>\n",
       "      <td>3.054591e+09</td>\n",
       "      <td>notanemail884@example.com</td>\n",
       "    </tr>\n",
       "    <tr>\n",
       "      <th>1</th>\n",
       "      <td>909895.0</td>\n",
       "      <td>Last909895</td>\n",
       "      <td>First909895</td>\n",
       "      <td>11/20/87</td>\n",
       "      <td>PartnerLast909895, PartnerFirst909895</td>\n",
       "      <td>3</td>\n",
       "      <td>0.0</td>\n",
       "      <td>S</td>\n",
       "      <td>7-Silver</td>\n",
       "      <td>NaN</td>\n",
       "      <td>...</td>\n",
       "      <td>December</td>\n",
       "      <td>NaN</td>\n",
       "      <td>863 Main St.</td>\n",
       "      <td>NaN</td>\n",
       "      <td>Salt Lake City</td>\n",
       "      <td>UT</td>\n",
       "      <td>84106</td>\n",
       "      <td>USA</td>\n",
       "      <td>6.186166e+09</td>\n",
       "      <td>notanemail50@example.com</td>\n",
       "    </tr>\n",
       "    <tr>\n",
       "      <th>2</th>\n",
       "      <td>93361.0</td>\n",
       "      <td>Last93361</td>\n",
       "      <td>First93361</td>\n",
       "      <td>5/13/90</td>\n",
       "      <td>PartnerLast93361, PartnerFirst93361</td>\n",
       "      <td>6</td>\n",
       "      <td>0.0</td>\n",
       "      <td>J</td>\n",
       "      <td>8-Pink</td>\n",
       "      <td>NaN</td>\n",
       "      <td>...</td>\n",
       "      <td>July</td>\n",
       "      <td>NaN</td>\n",
       "      <td>216 Main St.</td>\n",
       "      <td>NaN</td>\n",
       "      <td>Moroni</td>\n",
       "      <td>UT</td>\n",
       "      <td>84646</td>\n",
       "      <td>USA</td>\n",
       "      <td>6.344384e+09</td>\n",
       "      <td>notanemail512@example.com</td>\n",
       "    </tr>\n",
       "    <tr>\n",
       "      <th>3</th>\n",
       "      <td>937394.0</td>\n",
       "      <td>Last937394</td>\n",
       "      <td>First937394</td>\n",
       "      <td>7/15/79</td>\n",
       "      <td>PartnerLast937394, PartnerFirst937394</td>\n",
       "      <td>4</td>\n",
       "      <td>0.0</td>\n",
       "      <td>S</td>\n",
       "      <td>5-Orange</td>\n",
       "      <td>NaN</td>\n",
       "      <td>...</td>\n",
       "      <td>September</td>\n",
       "      <td>NaN</td>\n",
       "      <td>932 Main St.</td>\n",
       "      <td>NaN</td>\n",
       "      <td>Bluffdale</td>\n",
       "      <td>UT</td>\n",
       "      <td>84065</td>\n",
       "      <td>USA</td>\n",
       "      <td>2.736603e+09</td>\n",
       "      <td>notanemail908@example.com</td>\n",
       "    </tr>\n",
       "    <tr>\n",
       "      <th>4</th>\n",
       "      <td>216833.0</td>\n",
       "      <td>Last216833</td>\n",
       "      <td>First216833</td>\n",
       "      <td>1/31/85</td>\n",
       "      <td>PartnerLast216833, PartnerFirst216833</td>\n",
       "      <td>5</td>\n",
       "      <td>0.0</td>\n",
       "      <td>V</td>\n",
       "      <td>2-Yellow</td>\n",
       "      <td>NaN</td>\n",
       "      <td>...</td>\n",
       "      <td>April</td>\n",
       "      <td>NaN</td>\n",
       "      <td>4 Main St.</td>\n",
       "      <td>NaN</td>\n",
       "      <td>Eagle Mountain</td>\n",
       "      <td>UT</td>\n",
       "      <td>84005</td>\n",
       "      <td>USA</td>\n",
       "      <td>5.640751e+09</td>\n",
       "      <td>notanemail562@example.com</td>\n",
       "    </tr>\n",
       "  </tbody>\n",
       "</table>\n",
       "<p>5 rows × 21 columns</p>\n",
       "</div>"
      ],
      "text/plain": [
       "        EMR   Last Name   First Name       DOB  \\\n",
       "0  503113.0  Last503113  First503113   11/4/72   \n",
       "1  909895.0  Last909895  First909895  11/20/87   \n",
       "2   93361.0   Last93361   First93361   5/13/90   \n",
       "3  937394.0  Last937394  First937394   7/15/79   \n",
       "4  216833.0  Last216833  First216833   1/31/85   \n",
       "\n",
       "                                 Partner # Embryos  # Oocytes Tank  \\\n",
       "0  PartnerLast503113, PartnerFirst503113         3        0.0    V   \n",
       "1  PartnerLast909895, PartnerFirst909895         3        0.0    S   \n",
       "2    PartnerLast93361, PartnerFirst93361         6        0.0    J   \n",
       "3  PartnerLast937394, PartnerFirst937394         4        0.0    S   \n",
       "4  PartnerLast216833, PartnerFirst216833         5        0.0    V   \n",
       "\n",
       "  Canister-Color Donated From            ...             Billing Month  \\\n",
       "0        11-Blue          NaN            ...                  December   \n",
       "1       7-Silver          NaN            ...                  December   \n",
       "2         8-Pink          NaN            ...                      July   \n",
       "3       5-Orange          NaN            ...                 September   \n",
       "4       2-Yellow          NaN            ...                     April   \n",
       "\n",
       "  Comments     Address 1 Address 2            City State    Zip Country  \\\n",
       "0      NaN  107 Main St.       NaN     West Jordan    UT  84081     USA   \n",
       "1      NaN  863 Main St.       NaN  Salt Lake City    UT  84106     USA   \n",
       "2      NaN  216 Main St.       NaN          Moroni    UT  84646     USA   \n",
       "3      NaN  932 Main St.       NaN       Bluffdale    UT  84065     USA   \n",
       "4      NaN    4 Main St.       NaN  Eagle Mountain    UT  84005     USA   \n",
       "\n",
       "  Primary Phone                      Email  \n",
       "0  3.054591e+09  notanemail884@example.com  \n",
       "1  6.186166e+09   notanemail50@example.com  \n",
       "2  6.344384e+09  notanemail512@example.com  \n",
       "3  2.736603e+09  notanemail908@example.com  \n",
       "4  5.640751e+09  notanemail562@example.com  \n",
       "\n",
       "[5 rows x 21 columns]"
      ]
     },
     "execution_count": 8,
     "metadata": {},
     "output_type": "execute_result"
    }
   ],
   "source": [
    "charges.head()"
   ]
  },
  {
   "cell_type": "code",
   "execution_count": 9,
   "metadata": {},
   "outputs": [
    {
     "data": {
      "text/html": [
       "<div>\n",
       "<style scoped>\n",
       "    .dataframe tbody tr th:only-of-type {\n",
       "        vertical-align: middle;\n",
       "    }\n",
       "\n",
       "    .dataframe tbody tr th {\n",
       "        vertical-align: top;\n",
       "    }\n",
       "\n",
       "    .dataframe thead th {\n",
       "        text-align: right;\n",
       "    }\n",
       "</style>\n",
       "<table border=\"1\" class=\"dataframe\">\n",
       "  <thead>\n",
       "    <tr style=\"text-align: right;\">\n",
       "      <th></th>\n",
       "      <th>EMR</th>\n",
       "      <th>Last Name</th>\n",
       "      <th>First Name</th>\n",
       "      <th>DOB</th>\n",
       "      <th>Partner</th>\n",
       "      <th># Embryos</th>\n",
       "      <th># Oocytes</th>\n",
       "      <th>Tank</th>\n",
       "      <th>Canister-Color</th>\n",
       "      <th>Donated From</th>\n",
       "      <th>...</th>\n",
       "      <th>Billing Month</th>\n",
       "      <th>Comments</th>\n",
       "      <th>Address 1</th>\n",
       "      <th>Address 2</th>\n",
       "      <th>City</th>\n",
       "      <th>State</th>\n",
       "      <th>Zip</th>\n",
       "      <th>Country</th>\n",
       "      <th>Primary Phone</th>\n",
       "      <th>Email</th>\n",
       "    </tr>\n",
       "  </thead>\n",
       "  <tbody>\n",
       "    <tr>\n",
       "      <th>0</th>\n",
       "      <td>NaN</td>\n",
       "      <td>Last915553</td>\n",
       "      <td>First212</td>\n",
       "      <td>1984-07-12 00:00:00</td>\n",
       "      <td>PartnerLast804628, PartnerFirst748242</td>\n",
       "      <td>3</td>\n",
       "      <td>0</td>\n",
       "      <td>N</td>\n",
       "      <td>3-Green</td>\n",
       "      <td>NaN</td>\n",
       "      <td>...</td>\n",
       "      <td>September</td>\n",
       "      <td>Discard</td>\n",
       "      <td>453 Main St.</td>\n",
       "      <td>NaN</td>\n",
       "      <td>Lehi</td>\n",
       "      <td>UT</td>\n",
       "      <td>84043</td>\n",
       "      <td>USA</td>\n",
       "      <td>NaN</td>\n",
       "      <td>notanemail908@example.com</td>\n",
       "    </tr>\n",
       "    <tr>\n",
       "      <th>1</th>\n",
       "      <td>NaN</td>\n",
       "      <td>Last26280</td>\n",
       "      <td>First292222</td>\n",
       "      <td>1994-01-19 00:00:00</td>\n",
       "      <td>PartnerLast895676, PartnerFirst384420</td>\n",
       "      <td>4</td>\n",
       "      <td>0</td>\n",
       "      <td>K</td>\n",
       "      <td>7-Yellow</td>\n",
       "      <td>NaN</td>\n",
       "      <td>...</td>\n",
       "      <td>February</td>\n",
       "      <td>Donate to research</td>\n",
       "      <td>145 Main St.</td>\n",
       "      <td>NaN</td>\n",
       "      <td>West Jordan</td>\n",
       "      <td>UT</td>\n",
       "      <td>84081</td>\n",
       "      <td>USA</td>\n",
       "      <td>NaN</td>\n",
       "      <td>notanemail610@example.com</td>\n",
       "    </tr>\n",
       "    <tr>\n",
       "      <th>2</th>\n",
       "      <td>944874.0</td>\n",
       "      <td>Last944874</td>\n",
       "      <td>First944874</td>\n",
       "      <td>1979-12-01 00:00:00</td>\n",
       "      <td>PartnerLast944874, PartnerFirst944874</td>\n",
       "      <td>4</td>\n",
       "      <td>0</td>\n",
       "      <td>S</td>\n",
       "      <td>4-Silver</td>\n",
       "      <td>NaN</td>\n",
       "      <td>...</td>\n",
       "      <td>November</td>\n",
       "      <td>Donate to research</td>\n",
       "      <td>609 Main St.</td>\n",
       "      <td>NaN</td>\n",
       "      <td>Orem</td>\n",
       "      <td>UT</td>\n",
       "      <td>84057</td>\n",
       "      <td>USA</td>\n",
       "      <td>2.585908e+09</td>\n",
       "      <td>notanemail279@example.com</td>\n",
       "    </tr>\n",
       "    <tr>\n",
       "      <th>3</th>\n",
       "      <td>NaN</td>\n",
       "      <td>Last260308</td>\n",
       "      <td>First982213</td>\n",
       "      <td>1981-04-26 00:00:00</td>\n",
       "      <td>PartnerLast294652, PartnerFirst328208</td>\n",
       "      <td>3</td>\n",
       "      <td>0</td>\n",
       "      <td>M</td>\n",
       "      <td>20-Pink</td>\n",
       "      <td>NaN</td>\n",
       "      <td>...</td>\n",
       "      <td>April</td>\n",
       "      <td>Donate to research</td>\n",
       "      <td>681 Main St.</td>\n",
       "      <td>NaN</td>\n",
       "      <td>Rexburg</td>\n",
       "      <td>ID</td>\n",
       "      <td>83440</td>\n",
       "      <td>USA</td>\n",
       "      <td>NaN</td>\n",
       "      <td>notanemail641@example.com</td>\n",
       "    </tr>\n",
       "    <tr>\n",
       "      <th>4</th>\n",
       "      <td>NaN</td>\n",
       "      <td>Last802195</td>\n",
       "      <td>First866153</td>\n",
       "      <td>1988-06-30 00:00:00</td>\n",
       "      <td>PartnerLast111122, PartnerFirst888945</td>\n",
       "      <td>8</td>\n",
       "      <td>0</td>\n",
       "      <td>N</td>\n",
       "      <td>12-Green</td>\n",
       "      <td>NaN</td>\n",
       "      <td>...</td>\n",
       "      <td>February</td>\n",
       "      <td>Donate to research</td>\n",
       "      <td>823 Main St.</td>\n",
       "      <td>NaN</td>\n",
       "      <td>Lehi</td>\n",
       "      <td>UT</td>\n",
       "      <td>84043</td>\n",
       "      <td>USA</td>\n",
       "      <td>NaN</td>\n",
       "      <td>notanemail893@example.com</td>\n",
       "    </tr>\n",
       "  </tbody>\n",
       "</table>\n",
       "<p>5 rows × 21 columns</p>\n",
       "</div>"
      ],
      "text/plain": [
       "        EMR   Last Name   First Name                  DOB  \\\n",
       "0       NaN  Last915553     First212  1984-07-12 00:00:00   \n",
       "1       NaN   Last26280  First292222  1994-01-19 00:00:00   \n",
       "2  944874.0  Last944874  First944874  1979-12-01 00:00:00   \n",
       "3       NaN  Last260308  First982213  1981-04-26 00:00:00   \n",
       "4       NaN  Last802195  First866153  1988-06-30 00:00:00   \n",
       "\n",
       "                                 Partner # Embryos # Oocytes Tank  \\\n",
       "0  PartnerLast804628, PartnerFirst748242         3         0    N   \n",
       "1  PartnerLast895676, PartnerFirst384420         4         0    K   \n",
       "2  PartnerLast944874, PartnerFirst944874         4         0    S   \n",
       "3  PartnerLast294652, PartnerFirst328208         3         0    M   \n",
       "4  PartnerLast111122, PartnerFirst888945         8         0    N   \n",
       "\n",
       "  Canister-Color Donated From            ...             Billing Month  \\\n",
       "0        3-Green          NaN            ...                 September   \n",
       "1       7-Yellow          NaN            ...                  February   \n",
       "2       4-Silver          NaN            ...                  November   \n",
       "3        20-Pink          NaN            ...                     April   \n",
       "4       12-Green          NaN            ...                  February   \n",
       "\n",
       "             Comments     Address 1 Address 2         City State    Zip  \\\n",
       "0             Discard  453 Main St.       NaN         Lehi    UT  84043   \n",
       "1  Donate to research  145 Main St.       NaN  West Jordan    UT  84081   \n",
       "2  Donate to research  609 Main St.       NaN         Orem    UT  84057   \n",
       "3  Donate to research  681 Main St.       NaN      Rexburg    ID  83440   \n",
       "4  Donate to research  823 Main St.       NaN         Lehi    UT  84043   \n",
       "\n",
       "  Country Primary Phone                      Email  \n",
       "0     USA           NaN  notanemail908@example.com  \n",
       "1     USA           NaN  notanemail610@example.com  \n",
       "2     USA  2.585908e+09  notanemail279@example.com  \n",
       "3     USA           NaN  notanemail641@example.com  \n",
       "4     USA           NaN  notanemail893@example.com  \n",
       "\n",
       "[5 rows x 21 columns]"
      ]
     },
     "execution_count": 9,
     "metadata": {},
     "output_type": "execute_result"
    }
   ],
   "source": [
    "charges_x.head()"
   ]
  },
  {
   "cell_type": "code",
   "execution_count": 10,
   "metadata": {},
   "outputs": [],
   "source": [
    "# list(charges.columns)"
   ]
  },
  {
   "cell_type": "code",
   "execution_count": 11,
   "metadata": {},
   "outputs": [],
   "source": [
    "# Create column called 'Full Name' --> combine First and Last name columns\n",
    "charges['Full Name'] = charges[['Last Name', 'First Name']].apply(lambda x: ', '.join(x), axis=1)\n"
   ]
  },
  {
   "cell_type": "code",
   "execution_count": 12,
   "metadata": {},
   "outputs": [],
   "source": [
    "# Create column called 'Full Name' --> combine First and Last name columns\n",
    "charges_x['Full Name'] = charges_x[['Last Name', 'First Name']].apply(lambda x: ', '.join(x), axis=1)\n"
   ]
  },
  {
   "cell_type": "markdown",
   "metadata": {},
   "source": [
    "##### 2. `territories`"
   ]
  },
  {
   "cell_type": "code",
   "execution_count": 13,
   "metadata": {},
   "outputs": [
    {
     "data": {
      "text/html": [
       "<div>\n",
       "<style scoped>\n",
       "    .dataframe tbody tr th:only-of-type {\n",
       "        vertical-align: middle;\n",
       "    }\n",
       "\n",
       "    .dataframe tbody tr th {\n",
       "        vertical-align: top;\n",
       "    }\n",
       "\n",
       "    .dataframe thead th {\n",
       "        text-align: right;\n",
       "    }\n",
       "</style>\n",
       "<table border=\"1\" class=\"dataframe\">\n",
       "  <thead>\n",
       "    <tr style=\"text-align: right;\">\n",
       "      <th></th>\n",
       "      <th>ID</th>\n",
       "      <th>Country Abbreviation</th>\n",
       "      <th>State Abbreviation</th>\n",
       "      <th>State Name</th>\n",
       "    </tr>\n",
       "  </thead>\n",
       "  <tbody>\n",
       "    <tr>\n",
       "      <th>0</th>\n",
       "      <td>AT1</td>\n",
       "      <td>AT</td>\n",
       "      <td>1</td>\n",
       "      <td>Burgenland</td>\n",
       "    </tr>\n",
       "    <tr>\n",
       "      <th>1</th>\n",
       "      <td>AT2</td>\n",
       "      <td>AT</td>\n",
       "      <td>2</td>\n",
       "      <td>Karnten</td>\n",
       "    </tr>\n",
       "    <tr>\n",
       "      <th>2</th>\n",
       "      <td>AT3</td>\n",
       "      <td>AT</td>\n",
       "      <td>3</td>\n",
       "      <td>Niederosterreich</td>\n",
       "    </tr>\n",
       "    <tr>\n",
       "      <th>3</th>\n",
       "      <td>AT4</td>\n",
       "      <td>AT</td>\n",
       "      <td>4</td>\n",
       "      <td>Oberosterreich</td>\n",
       "    </tr>\n",
       "    <tr>\n",
       "      <th>4</th>\n",
       "      <td>AT5</td>\n",
       "      <td>AT</td>\n",
       "      <td>5</td>\n",
       "      <td>Salzburg</td>\n",
       "    </tr>\n",
       "  </tbody>\n",
       "</table>\n",
       "</div>"
      ],
      "text/plain": [
       "    ID Country Abbreviation State Abbreviation        State Name\n",
       "0  AT1                   AT                  1        Burgenland\n",
       "1  AT2                   AT                  2           Karnten\n",
       "2  AT3                   AT                  3  Niederosterreich\n",
       "3  AT4                   AT                  4    Oberosterreich\n",
       "4  AT5                   AT                  5          Salzburg"
      ]
     },
     "execution_count": 13,
     "metadata": {},
     "output_type": "execute_result"
    }
   ],
   "source": [
    "territories.head()"
   ]
  },
  {
   "cell_type": "code",
   "execution_count": 14,
   "metadata": {},
   "outputs": [
    {
     "data": {
      "text/html": [
       "<div>\n",
       "<style scoped>\n",
       "    .dataframe tbody tr th:only-of-type {\n",
       "        vertical-align: middle;\n",
       "    }\n",
       "\n",
       "    .dataframe tbody tr th {\n",
       "        vertical-align: top;\n",
       "    }\n",
       "\n",
       "    .dataframe thead th {\n",
       "        text-align: right;\n",
       "    }\n",
       "</style>\n",
       "<table border=\"1\" class=\"dataframe\">\n",
       "  <thead>\n",
       "    <tr style=\"text-align: right;\">\n",
       "      <th></th>\n",
       "      <th>ID</th>\n",
       "      <th>Country Abbreviation</th>\n",
       "      <th>State Abbreviation</th>\n",
       "      <th>State Name</th>\n",
       "    </tr>\n",
       "  </thead>\n",
       "  <tbody>\n",
       "    <tr>\n",
       "      <th>0</th>\n",
       "      <td>AT1</td>\n",
       "      <td>AT</td>\n",
       "      <td>1</td>\n",
       "      <td>Burgenland</td>\n",
       "    </tr>\n",
       "    <tr>\n",
       "      <th>1</th>\n",
       "      <td>AT2</td>\n",
       "      <td>AT</td>\n",
       "      <td>2</td>\n",
       "      <td>Karnten</td>\n",
       "    </tr>\n",
       "    <tr>\n",
       "      <th>2</th>\n",
       "      <td>AT3</td>\n",
       "      <td>AT</td>\n",
       "      <td>3</td>\n",
       "      <td>Niederosterreich</td>\n",
       "    </tr>\n",
       "    <tr>\n",
       "      <th>3</th>\n",
       "      <td>AT4</td>\n",
       "      <td>AT</td>\n",
       "      <td>4</td>\n",
       "      <td>Oberosterreich</td>\n",
       "    </tr>\n",
       "    <tr>\n",
       "      <th>4</th>\n",
       "      <td>AT5</td>\n",
       "      <td>AT</td>\n",
       "      <td>5</td>\n",
       "      <td>Salzburg</td>\n",
       "    </tr>\n",
       "  </tbody>\n",
       "</table>\n",
       "</div>"
      ],
      "text/plain": [
       "    ID Country Abbreviation State Abbreviation        State Name\n",
       "0  AT1                   AT                  1        Burgenland\n",
       "1  AT2                   AT                  2           Karnten\n",
       "2  AT3                   AT                  3  Niederosterreich\n",
       "3  AT4                   AT                  4    Oberosterreich\n",
       "4  AT5                   AT                  5          Salzburg"
      ]
     },
     "execution_count": 14,
     "metadata": {},
     "output_type": "execute_result"
    }
   ],
   "source": [
    "territories_x.head()"
   ]
  },
  {
   "cell_type": "markdown",
   "metadata": {},
   "source": [
    "##### 3. `countries`"
   ]
  },
  {
   "cell_type": "code",
   "execution_count": 15,
   "metadata": {},
   "outputs": [
    {
     "data": {
      "text/html": [
       "<div>\n",
       "<style scoped>\n",
       "    .dataframe tbody tr th:only-of-type {\n",
       "        vertical-align: middle;\n",
       "    }\n",
       "\n",
       "    .dataframe tbody tr th {\n",
       "        vertical-align: top;\n",
       "    }\n",
       "\n",
       "    .dataframe thead th {\n",
       "        text-align: right;\n",
       "    }\n",
       "</style>\n",
       "<table border=\"1\" class=\"dataframe\">\n",
       "  <thead>\n",
       "    <tr style=\"text-align: right;\">\n",
       "      <th></th>\n",
       "      <th>Country Abbreviation</th>\n",
       "      <th>Country Name (*This sheet should be sorted by this column for LOOKUP function to work)</th>\n",
       "    </tr>\n",
       "  </thead>\n",
       "  <tbody>\n",
       "    <tr>\n",
       "      <th>0</th>\n",
       "      <td>AF</td>\n",
       "      <td>Afghanistan</td>\n",
       "    </tr>\n",
       "    <tr>\n",
       "      <th>1</th>\n",
       "      <td>AL</td>\n",
       "      <td>Albania</td>\n",
       "    </tr>\n",
       "    <tr>\n",
       "      <th>2</th>\n",
       "      <td>DZ</td>\n",
       "      <td>Algeria</td>\n",
       "    </tr>\n",
       "    <tr>\n",
       "      <th>3</th>\n",
       "      <td>AD</td>\n",
       "      <td>Andorra</td>\n",
       "    </tr>\n",
       "    <tr>\n",
       "      <th>4</th>\n",
       "      <td>AO</td>\n",
       "      <td>Angola</td>\n",
       "    </tr>\n",
       "  </tbody>\n",
       "</table>\n",
       "</div>"
      ],
      "text/plain": [
       "  Country Abbreviation  \\\n",
       "0                   AF   \n",
       "1                   AL   \n",
       "2                   DZ   \n",
       "3                   AD   \n",
       "4                   AO   \n",
       "\n",
       "  Country Name (*This sheet should be sorted by this column for LOOKUP function to work)  \n",
       "0                                        Afghanistan                                      \n",
       "1                                            Albania                                      \n",
       "2                                            Algeria                                      \n",
       "3                                            Andorra                                      \n",
       "4                                             Angola                                      "
      ]
     },
     "execution_count": 15,
     "metadata": {},
     "output_type": "execute_result"
    }
   ],
   "source": [
    "countries.head()"
   ]
  },
  {
   "cell_type": "code",
   "execution_count": 16,
   "metadata": {},
   "outputs": [
    {
     "data": {
      "text/html": [
       "<div>\n",
       "<style scoped>\n",
       "    .dataframe tbody tr th:only-of-type {\n",
       "        vertical-align: middle;\n",
       "    }\n",
       "\n",
       "    .dataframe tbody tr th {\n",
       "        vertical-align: top;\n",
       "    }\n",
       "\n",
       "    .dataframe thead th {\n",
       "        text-align: right;\n",
       "    }\n",
       "</style>\n",
       "<table border=\"1\" class=\"dataframe\">\n",
       "  <thead>\n",
       "    <tr style=\"text-align: right;\">\n",
       "      <th></th>\n",
       "      <th>Country Abbreviation</th>\n",
       "      <th>Country Name (*This sheet should be sorted by this column for LOOKUP function to work)</th>\n",
       "    </tr>\n",
       "  </thead>\n",
       "  <tbody>\n",
       "    <tr>\n",
       "      <th>0</th>\n",
       "      <td>AF</td>\n",
       "      <td>Afghanistan</td>\n",
       "    </tr>\n",
       "    <tr>\n",
       "      <th>1</th>\n",
       "      <td>AL</td>\n",
       "      <td>Albania</td>\n",
       "    </tr>\n",
       "    <tr>\n",
       "      <th>2</th>\n",
       "      <td>DZ</td>\n",
       "      <td>Algeria</td>\n",
       "    </tr>\n",
       "    <tr>\n",
       "      <th>3</th>\n",
       "      <td>AD</td>\n",
       "      <td>Andorra</td>\n",
       "    </tr>\n",
       "    <tr>\n",
       "      <th>4</th>\n",
       "      <td>AO</td>\n",
       "      <td>Angola</td>\n",
       "    </tr>\n",
       "  </tbody>\n",
       "</table>\n",
       "</div>"
      ],
      "text/plain": [
       "  Country Abbreviation  \\\n",
       "0                   AF   \n",
       "1                   AL   \n",
       "2                   DZ   \n",
       "3                   AD   \n",
       "4                   AO   \n",
       "\n",
       "  Country Name (*This sheet should be sorted by this column for LOOKUP function to work)  \n",
       "0                                        Afghanistan                                      \n",
       "1                                            Albania                                      \n",
       "2                                            Algeria                                      \n",
       "3                                            Andorra                                      \n",
       "4                                             Angola                                      "
      ]
     },
     "execution_count": 16,
     "metadata": {},
     "output_type": "execute_result"
    }
   ],
   "source": [
    "countries_x.head()"
   ]
  },
  {
   "cell_type": "code",
   "execution_count": 17,
   "metadata": {},
   "outputs": [],
   "source": [
    "# Rename 2nd column in countries to simplify\n",
    "countries = countries.rename(columns={'Country Name (*This sheet should be sorted by this column for LOOKUP function to work)':'Country Name'})\n"
   ]
  },
  {
   "cell_type": "code",
   "execution_count": 18,
   "metadata": {},
   "outputs": [],
   "source": [
    "countries_x = countries_x.rename(columns={'Country Name (*This sheet should be sorted by this column for LOOKUP function to work)':'Country Name'})"
   ]
  },
  {
   "cell_type": "markdown",
   "metadata": {},
   "source": [
    "##### 4. `red_rows`"
   ]
  },
  {
   "cell_type": "code",
   "execution_count": 19,
   "metadata": {},
   "outputs": [
    {
     "data": {
      "text/html": [
       "<div>\n",
       "<style scoped>\n",
       "    .dataframe tbody tr th:only-of-type {\n",
       "        vertical-align: middle;\n",
       "    }\n",
       "\n",
       "    .dataframe tbody tr th {\n",
       "        vertical-align: top;\n",
       "    }\n",
       "\n",
       "    .dataframe thead th {\n",
       "        text-align: right;\n",
       "    }\n",
       "</style>\n",
       "<table border=\"1\" class=\"dataframe\">\n",
       "  <thead>\n",
       "    <tr style=\"text-align: right;\">\n",
       "      <th></th>\n",
       "      <th>EMR</th>\n",
       "      <th>Last Name</th>\n",
       "      <th>First Name</th>\n",
       "      <th>DOB</th>\n",
       "      <th>Partner</th>\n",
       "      <th># Embryos</th>\n",
       "      <th># Oocytes</th>\n",
       "      <th>Tank</th>\n",
       "      <th>Canister-Color</th>\n",
       "      <th>Donated From</th>\n",
       "      <th>...</th>\n",
       "      <th>Billing Month</th>\n",
       "      <th>Comments</th>\n",
       "      <th>Address 1</th>\n",
       "      <th>Address 2</th>\n",
       "      <th>City</th>\n",
       "      <th>State</th>\n",
       "      <th>Zip</th>\n",
       "      <th>Country</th>\n",
       "      <th>Primary Phone</th>\n",
       "      <th>Email</th>\n",
       "    </tr>\n",
       "  </thead>\n",
       "  <tbody>\n",
       "    <tr>\n",
       "      <th>0</th>\n",
       "      <td>NaN</td>\n",
       "      <td>Last915553</td>\n",
       "      <td>First212</td>\n",
       "      <td>7/12/84</td>\n",
       "      <td>PartnerLast804628, PartnerFirst748242</td>\n",
       "      <td>3</td>\n",
       "      <td>0</td>\n",
       "      <td>N</td>\n",
       "      <td>3-Green</td>\n",
       "      <td>NaN</td>\n",
       "      <td>...</td>\n",
       "      <td>September</td>\n",
       "      <td>Discard</td>\n",
       "      <td>453 Main St.</td>\n",
       "      <td>NaN</td>\n",
       "      <td>Lehi</td>\n",
       "      <td>UT</td>\n",
       "      <td>84043</td>\n",
       "      <td>USA</td>\n",
       "      <td>NaN</td>\n",
       "      <td>notanemail908@example.com</td>\n",
       "    </tr>\n",
       "    <tr>\n",
       "      <th>1</th>\n",
       "      <td>NaN</td>\n",
       "      <td>Last26280</td>\n",
       "      <td>First292222</td>\n",
       "      <td>1/19/94</td>\n",
       "      <td>PartnerLast895676, PartnerFirst384420</td>\n",
       "      <td>4</td>\n",
       "      <td>0</td>\n",
       "      <td>K</td>\n",
       "      <td>7-Yellow</td>\n",
       "      <td>NaN</td>\n",
       "      <td>...</td>\n",
       "      <td>February</td>\n",
       "      <td>Donate to research</td>\n",
       "      <td>145 Main St.</td>\n",
       "      <td>NaN</td>\n",
       "      <td>West Jordan</td>\n",
       "      <td>UT</td>\n",
       "      <td>84081</td>\n",
       "      <td>USA</td>\n",
       "      <td>NaN</td>\n",
       "      <td>notanemail610@example.com</td>\n",
       "    </tr>\n",
       "    <tr>\n",
       "      <th>2</th>\n",
       "      <td>944874.0</td>\n",
       "      <td>Last944874</td>\n",
       "      <td>First944874</td>\n",
       "      <td>12/1/79</td>\n",
       "      <td>PartnerLast944874, PartnerFirst944874</td>\n",
       "      <td>4</td>\n",
       "      <td>0</td>\n",
       "      <td>S</td>\n",
       "      <td>4-Silver</td>\n",
       "      <td>NaN</td>\n",
       "      <td>...</td>\n",
       "      <td>November</td>\n",
       "      <td>Donate to research</td>\n",
       "      <td>609 Main St.</td>\n",
       "      <td>NaN</td>\n",
       "      <td>Orem</td>\n",
       "      <td>UT</td>\n",
       "      <td>84057</td>\n",
       "      <td>USA</td>\n",
       "      <td>2.585908e+09</td>\n",
       "      <td>notanemail279@example.com</td>\n",
       "    </tr>\n",
       "  </tbody>\n",
       "</table>\n",
       "<p>3 rows × 21 columns</p>\n",
       "</div>"
      ],
      "text/plain": [
       "        EMR   Last Name   First Name      DOB  \\\n",
       "0       NaN  Last915553     First212  7/12/84   \n",
       "1       NaN   Last26280  First292222  1/19/94   \n",
       "2  944874.0  Last944874  First944874  12/1/79   \n",
       "\n",
       "                                 Partner  # Embryos  # Oocytes Tank  \\\n",
       "0  PartnerLast804628, PartnerFirst748242          3          0    N   \n",
       "1  PartnerLast895676, PartnerFirst384420          4          0    K   \n",
       "2  PartnerLast944874, PartnerFirst944874          4          0    S   \n",
       "\n",
       "  Canister-Color Donated From            ...             Billing Month  \\\n",
       "0        3-Green          NaN            ...                 September   \n",
       "1       7-Yellow          NaN            ...                  February   \n",
       "2       4-Silver          NaN            ...                  November   \n",
       "\n",
       "             Comments     Address 1 Address 2         City State    Zip  \\\n",
       "0             Discard  453 Main St.       NaN         Lehi    UT  84043   \n",
       "1  Donate to research  145 Main St.       NaN  West Jordan    UT  84081   \n",
       "2  Donate to research  609 Main St.       NaN         Orem    UT  84057   \n",
       "\n",
       "   Country Primary Phone                      Email  \n",
       "0      USA           NaN  notanemail908@example.com  \n",
       "1      USA           NaN  notanemail610@example.com  \n",
       "2      USA  2.585908e+09  notanemail279@example.com  \n",
       "\n",
       "[3 rows x 21 columns]"
      ]
     },
     "execution_count": 19,
     "metadata": {},
     "output_type": "execute_result"
    }
   ],
   "source": [
    "red_rows.head(3)"
   ]
  },
  {
   "cell_type": "code",
   "execution_count": 20,
   "metadata": {},
   "outputs": [],
   "source": [
    "# Create column called 'Full Name' --> combine First and Last name columns\n",
    "red_rows['Full Name'] = red_rows[['Last Name', 'First Name']].apply(lambda x: ', '.join(x), axis=1)\n"
   ]
  },
  {
   "cell_type": "markdown",
   "metadata": {},
   "source": [
    "## -------------------------------------------------------------------"
   ]
  },
  {
   "cell_type": "markdown",
   "metadata": {},
   "source": [
    "### Question 1"
   ]
  },
  {
   "cell_type": "markdown",
   "metadata": {},
   "source": [
    "*Question: How many unique patients are there in the dataset?*"
   ]
  },
  {
   "cell_type": "code",
   "execution_count": 21,
   "metadata": {},
   "outputs": [
    {
     "data": {
      "text/plain": [
       "(2201, 22)"
      ]
     },
     "execution_count": 21,
     "metadata": {},
     "output_type": "execute_result"
    }
   ],
   "source": [
    "# Look at shape of the table to see TOTAL # of rows\n",
    "charges_x.shape"
   ]
  },
  {
   "cell_type": "code",
   "execution_count": 22,
   "metadata": {},
   "outputs": [
    {
     "data": {
      "text/plain": [
       "2201"
      ]
     },
     "execution_count": 22,
     "metadata": {},
     "output_type": "execute_result"
    }
   ],
   "source": [
    "# Using set function to find unique rows (i.e. unique patients)\n",
    "len(set(charges['EMR']))"
   ]
  },
  {
   "cell_type": "code",
   "execution_count": 23,
   "metadata": {},
   "outputs": [
    {
     "data": {
      "text/plain": [
       "2201"
      ]
     },
     "execution_count": 23,
     "metadata": {},
     "output_type": "execute_result"
    }
   ],
   "source": [
    "len(set(charges_x['EMR']))"
   ]
  },
  {
   "cell_type": "code",
   "execution_count": 24,
   "metadata": {},
   "outputs": [
    {
     "data": {
      "text/plain": [
       "count                        2201\n",
       "unique                       2201\n",
       "top       Last302835, First302835\n",
       "freq                            1\n",
       "Name: Full Name, dtype: object"
      ]
     },
     "execution_count": 24,
     "metadata": {},
     "output_type": "execute_result"
    }
   ],
   "source": [
    "# Verify using 'Full Name' column\n",
    "charges_x['Full Name'].describe()"
   ]
  },
  {
   "cell_type": "markdown",
   "metadata": {},
   "source": [
    "***Answer:*** 2201 unique patients."
   ]
  },
  {
   "cell_type": "markdown",
   "metadata": {},
   "source": [
    "## -------------------------------------------------------------------"
   ]
  },
  {
   "cell_type": "markdown",
   "metadata": {},
   "source": [
    "### Question 2"
   ]
  },
  {
   "cell_type": "markdown",
   "metadata": {},
   "source": [
    "*Question: Identify all patients without an EMR number.*"
   ]
  },
  {
   "cell_type": "markdown",
   "metadata": {},
   "source": [
    "***Answer:***"
   ]
  },
  {
   "cell_type": "code",
   "execution_count": 25,
   "metadata": {
    "scrolled": true
   },
   "outputs": [
    {
     "data": {
      "text/plain": [
       "(61, 22)"
      ]
     },
     "execution_count": 25,
     "metadata": {},
     "output_type": "execute_result"
    }
   ],
   "source": [
    "charges[charges['EMR'].isnull()].shape"
   ]
  },
  {
   "cell_type": "code",
   "execution_count": 26,
   "metadata": {},
   "outputs": [
    {
     "data": {
      "text/plain": [
       "(61, 22)"
      ]
     },
     "execution_count": 26,
     "metadata": {},
     "output_type": "execute_result"
    }
   ],
   "source": [
    "charges_x[charges_x['EMR'].isnull()].shape"
   ]
  },
  {
   "cell_type": "markdown",
   "metadata": {},
   "source": [
    "## -------------------------------------------------------------------"
   ]
  },
  {
   "cell_type": "markdown",
   "metadata": {},
   "source": [
    "### Question 3"
   ]
  },
  {
   "cell_type": "markdown",
   "metadata": {},
   "source": [
    "*Question: Identify all patients with an invalid Date of Birth.*"
   ]
  },
  {
   "cell_type": "code",
   "execution_count": 27,
   "metadata": {},
   "outputs": [
    {
     "name": "stderr",
     "output_type": "stream",
     "text": [
      "/anaconda3/lib/python3.6/site-packages/ipykernel_launcher.py:5: SettingWithCopyWarning: \n",
      "A value is trying to be set on a copy of a slice from a DataFrame\n",
      "\n",
      "See the caveats in the documentation: http://pandas.pydata.org/pandas-docs/stable/indexing.html#indexing-view-versus-copy\n",
      "  \"\"\"\n"
     ]
    },
    {
     "name": "stdout",
     "output_type": "stream",
     "text": [
      "408\n",
      "1494\n"
     ]
    }
   ],
   "source": [
    "# Change from string to datetime format\n",
    "\n",
    "for x in range(len(charges_x)):    \n",
    "    try:\n",
    "        charges_x['DOB'][x] = pd.to_datetime(charges_x['DOB'][x])\n",
    "    except:\n",
    "        # print rows that can't be changed to datetime\n",
    "        print(x)\n",
    "        pass"
   ]
  },
  {
   "cell_type": "code",
   "execution_count": 29,
   "metadata": {},
   "outputs": [
    {
     "data": {
      "text/plain": [
       "EMR                                              484183\n",
       "Last Name                                    Last484183\n",
       "First Name                                  First484183\n",
       "DOB                                 4579-11-05 00:00:00\n",
       "Partner           PartnerLast484183, PartnerFirst484183\n",
       "# Embryos                                            12\n",
       "# Oocytes                                             0\n",
       "Tank                                                  V\n",
       "Canister-Color                                 5-Yellow\n",
       "Donated From                                        NaN\n",
       "Date In                             2018-08-23 00:00:00\n",
       "Billing Month                                    August\n",
       "Comments                                            NaN\n",
       "Address 1                                  154 Main St.\n",
       "Address 2                                           NaN\n",
       "City                                     Salt Lake City\n",
       "State                                                UT\n",
       "Zip                                               84120\n",
       "Country                                             USA\n",
       "Primary Phone                                1.9623e+09\n",
       "Email                         notanemail717@example.com\n",
       "Full Name                       Last484183, First484183\n",
       "Name: 408, dtype: object"
      ]
     },
     "execution_count": 29,
     "metadata": {},
     "output_type": "execute_result"
    }
   ],
   "source": [
    "charges_x.iloc[408]"
   ]
  },
  {
   "cell_type": "code",
   "execution_count": 30,
   "metadata": {},
   "outputs": [
    {
     "data": {
      "text/plain": [
       "EMR                                                 313332\n",
       "Last Name                                       Last313332\n",
       "First Name                                     First313332\n",
       "DOB                                    4565-11-06 00:00:00\n",
       "Partner              PartnerLast313332, PartnerFirst313332\n",
       "# Embryos                                               13\n",
       "# Oocytes                                                0\n",
       "Tank                             V                       V\n",
       "Canister-Color    1-Pink                            7-Blue\n",
       "Donated From                                           NaN\n",
       "Date In              4/12/18                       9/29/18\n",
       "Billing Month                                        April\n",
       "Comments                                               NaN\n",
       "Address 1                                     346 Main St.\n",
       "Address 2                                              NaN\n",
       "City                                            Clearfield\n",
       "State                                                   UT\n",
       "Zip                                                  84015\n",
       "Country                                                USA\n",
       "Primary Phone                                  3.84506e+09\n",
       "Email                             notanemail53@example.com\n",
       "Full Name                          Last313332, First313332\n",
       "Name: 1494, dtype: object"
      ]
     },
     "execution_count": 30,
     "metadata": {},
     "output_type": "execute_result"
    }
   ],
   "source": [
    "charges_x.iloc[1494]"
   ]
  },
  {
   "cell_type": "code",
   "execution_count": 31,
   "metadata": {},
   "outputs": [
    {
     "data": {
      "text/plain": [
       "1661    2018-06-25 00:00:00\n",
       "664     2019-01-21 00:00:00\n",
       "1131    2019-03-15 00:00:00\n",
       "1494    4565-11-06 00:00:00\n",
       "408     4579-11-05 00:00:00\n",
       "Name: DOB, dtype: object"
      ]
     },
     "execution_count": 31,
     "metadata": {},
     "output_type": "execute_result"
    }
   ],
   "source": [
    "charges_x['DOB'].sort_values().tail()"
   ]
  },
  {
   "cell_type": "code",
   "execution_count": null,
   "metadata": {
    "scrolled": true
   },
   "outputs": [],
   "source": [
    "# charges_x['DOB'].sort_values().tail(45)"
   ]
  },
  {
   "cell_type": "markdown",
   "metadata": {},
   "source": [
    "***Answer:*** When changing the datatype from string to datetime, any row with a DOB *before the year of 1969* get's incorrectly converted to future dates that aren't currently valid birthdays. \n",
    "\n",
    "For example, `11/25/68` *incorrectly* becomes `2068-11-25`, whereas `11/20/69` *correctly* becomes `1969-11-20`."
   ]
  },
  {
   "cell_type": "code",
   "execution_count": null,
   "metadata": {
    "scrolled": true
   },
   "outputs": [],
   "source": [
    "# All invalid DOB\n",
    "charges_x[charges_x['DOB'] > '2019-12-31']"
   ]
  },
  {
   "cell_type": "markdown",
   "metadata": {},
   "source": [
    "***Answer:*** I'm also wondering if it makes sense for anyone under the age of 18 to be able to store their embryos/oocytes - I would want to verify that these birthdays are valid."
   ]
  },
  {
   "cell_type": "code",
   "execution_count": null,
   "metadata": {
    "scrolled": true
   },
   "outputs": [],
   "source": [
    "charges_x[(charges_x['DOB'] < '2019-5-5') & (charges_x['DOB'] > '2001-5-5')]"
   ]
  },
  {
   "cell_type": "code",
   "execution_count": null,
   "metadata": {},
   "outputs": [],
   "source": [
    "# set(charges_x['Zip'])\n",
    "type(charges_x['Zip'].dtypes"
   ]
  },
  {
   "cell_type": "markdown",
   "metadata": {},
   "source": [
    "## -------------------------------------------------------------------"
   ]
  },
  {
   "cell_type": "markdown",
   "metadata": {},
   "source": [
    "### Question 4"
   ]
  },
  {
   "cell_type": "markdown",
   "metadata": {},
   "source": [
    "*Q: Identify all patient addresses that do not have a valid country or state code.*"
   ]
  },
  {
   "cell_type": "markdown",
   "metadata": {},
   "source": [
    "##### 1. Isolate rows where `'Address 1'` is populated."
   ]
  },
  {
   "cell_type": "code",
   "execution_count": null,
   "metadata": {
    "scrolled": false
   },
   "outputs": [],
   "source": [
    "has_address = charges[['Address 1', 'Address 2', 'City', 'State', 'Zip', 'Country']][charges['Address 1'].notnull()]\n",
    "has_address.head()"
   ]
  },
  {
   "cell_type": "markdown",
   "metadata": {},
   "source": [
    "##### 2. Compare country codes in `charges` table with those in the `countries` table."
   ]
  },
  {
   "cell_type": "code",
   "execution_count": null,
   "metadata": {
    "scrolled": true
   },
   "outputs": [],
   "source": [
    "# Identify all Country codes that occur in original charges table\n",
    "set(charges['Country'])"
   ]
  },
  {
   "cell_type": "code",
   "execution_count": null,
   "metadata": {},
   "outputs": [],
   "source": [
    "# Set of all Country codes that exist in the has_address table\n",
    "country_charges = set(has_address['Country'])\n",
    "country_charges"
   ]
  },
  {
   "cell_type": "code",
   "execution_count": null,
   "metadata": {},
   "outputs": [],
   "source": [
    "# Set of all Country codes that exist in the countries table\n",
    "country_countries = set(list(countries['Country Abbreviation']))"
   ]
  },
  {
   "cell_type": "code",
   "execution_count": null,
   "metadata": {},
   "outputs": [],
   "source": [
    "# Find invalid Country codes\n",
    "invalid_country = list(country_charges - country_countries)\n",
    "invalid_country"
   ]
  },
  {
   "cell_type": "markdown",
   "metadata": {},
   "source": [
    "***Answer***: *ALL* United States addresses in the `charges` table are **invalid** with `'USA'` instead of `'US'`. The `countries` table deems `'US'` the correct `'Country Abbreviation'` for the United States or USA."
   ]
  },
  {
   "cell_type": "code",
   "execution_count": null,
   "metadata": {},
   "outputs": [],
   "source": [
    "countries[countries['Country Name'].isin(['United States', 'USA', 'United States of America', 'US'])]"
   ]
  },
  {
   "cell_type": "markdown",
   "metadata": {},
   "source": [
    "##### 3. Compare state codes in `charges` table with those in the `territories` tables."
   ]
  },
  {
   "cell_type": "code",
   "execution_count": null,
   "metadata": {},
   "outputs": [],
   "source": [
    "# Set of all State codes that exist in the has_address table\n",
    "states_charges = set(has_address['State'])\n",
    "# states_charges"
   ]
  },
  {
   "cell_type": "code",
   "execution_count": null,
   "metadata": {},
   "outputs": [],
   "source": [
    "# Set of all State codes that exist in the territories table\n",
    "states_territories = set(list(territories['State Abbreviation']))\n",
    "# states_territories"
   ]
  },
  {
   "cell_type": "code",
   "execution_count": null,
   "metadata": {},
   "outputs": [],
   "source": [
    "# Find invalid 'State' codes\n",
    "invalid_states = list(states_charges - states_territories)\n",
    "invalid_states"
   ]
  },
  {
   "cell_type": "markdown",
   "metadata": {},
   "source": [
    "***Answer***: The resulting table shows the rows in `charges` where the `State` code is **invalid**."
   ]
  },
  {
   "cell_type": "code",
   "execution_count": null,
   "metadata": {
    "scrolled": false
   },
   "outputs": [],
   "source": [
    "has_address[has_address['State'].isin(invalid_states)]"
   ]
  },
  {
   "cell_type": "code",
   "execution_count": null,
   "metadata": {},
   "outputs": [],
   "source": [
    "# # Get list of index values for all invalid State code rows\n",
    "# invalid_1 = list(has_address[has_address['State'].isin(invalid_states)].index)"
   ]
  },
  {
   "cell_type": "markdown",
   "metadata": {},
   "source": [
    "##### 4. Check nulls"
   ]
  },
  {
   "cell_type": "markdown",
   "metadata": {},
   "source": [
    "***Answer:*** The resulting table shows the rows in `charges` where the `'State'` code OR `'Country'` code is **NULL**."
   ]
  },
  {
   "cell_type": "code",
   "execution_count": null,
   "metadata": {
    "scrolled": false
   },
   "outputs": [],
   "source": [
    "# Find all rows where State code OR Country code is NULL\n",
    "has_address[(has_address['State'].isnull()) | (has_address['Country'].isnull())]"
   ]
  },
  {
   "cell_type": "code",
   "execution_count": null,
   "metadata": {},
   "outputs": [],
   "source": [
    "# # Get list of index values for all null rows\n",
    "# invalid_2 = list(has_address[(has_address['State'].isnull()) | (has_address['Country'].isnull())].index)"
   ]
  },
  {
   "cell_type": "markdown",
   "metadata": {},
   "source": [
    "##### 5. Final overview"
   ]
  },
  {
   "cell_type": "markdown",
   "metadata": {},
   "source": [
    "All invalid rows were in one of 2 groups:\n",
    "1. Invalid `'Country'` code - either **null** or **USA** which is NOT the correct country code according to the `countries` table.\n",
    "2. Invalid `'State'` code - either **null** or an **incorrect code** :`['XY', 'VW', 'CD', 'AE', 'UX', 'AW']`."
   ]
  },
  {
   "cell_type": "markdown",
   "metadata": {},
   "source": [
    "##### 6. Other observations/EDA"
   ]
  },
  {
   "cell_type": "markdown",
   "metadata": {},
   "source": [
    "- Notice `has_address.iloc[1720]` which has city/state/country information in the `Address 2` column instead of in the *appropriate* columns. Based on the `countries` table, the country code for Switzerland would be `CH`."
   ]
  },
  {
   "cell_type": "code",
   "execution_count": null,
   "metadata": {},
   "outputs": [],
   "source": [
    "# Verify Switzerland is valid country name & find out what the country abbreviation is for this specific row\n",
    "countries[countries['Country Name'] == 'Switzerland']"
   ]
  },
  {
   "cell_type": "markdown",
   "metadata": {},
   "source": [
    "- `has_address.iloc[1812]` has an error. The country code appears in the `'Zip'` column instead of the `'Country'` column. If `'CA'` was in the `'Country'` column, it *would* be a valid country code!!"
   ]
  },
  {
   "cell_type": "code",
   "execution_count": null,
   "metadata": {
    "scrolled": true
   },
   "outputs": [],
   "source": [
    "# Verify CA is valid country abbreviation\n",
    "countries[countries['Country Abbreviation'] == 'CA']"
   ]
  },
  {
   "cell_type": "markdown",
   "metadata": {},
   "source": [
    "The rows in `charges` where `Country` == `'ESP'` have an invalid country code. The official country abbreviation is `'ES'`, not `'ESP'`."
   ]
  },
  {
   "cell_type": "code",
   "execution_count": null,
   "metadata": {
    "scrolled": true
   },
   "outputs": [],
   "source": [
    "# Look up Country Abbreviation values in countries table\n",
    "countries[countries['Country Abbreviation'].isin(['ES', 'ESP', 'EP', 'SP'])]"
   ]
  },
  {
   "cell_type": "markdown",
   "metadata": {},
   "source": [
    "## -------------------------------------------------------------------"
   ]
  },
  {
   "cell_type": "markdown",
   "metadata": {},
   "source": [
    "### Question 5"
   ]
  },
  {
   "cell_type": "markdown",
   "metadata": {},
   "source": [
    "*Question: Identify all records where the 'Billing Month' does not match the month of the 'Date In'.*"
   ]
  },
  {
   "cell_type": "markdown",
   "metadata": {},
   "source": [
    "***Approach:*** Create two new columns that contain the numeric value of the months from both original columns (*'Billing Month'* and *'Date In'*). Do this by converting each column to datetime in some form and pulling the **month** information. Finally, find the rows where the values in the two newly created columns *don't* match."
   ]
  },
  {
   "cell_type": "markdown",
   "metadata": {},
   "source": [
    "##### 1.  Nulls"
   ]
  },
  {
   "cell_type": "code",
   "execution_count": null,
   "metadata": {},
   "outputs": [],
   "source": [
    "# Check for null values\n",
    "charges[['Date In', 'Billing Month']].isnull().sum()"
   ]
  },
  {
   "cell_type": "code",
   "execution_count": null,
   "metadata": {},
   "outputs": [],
   "source": [
    "# Replace all null cells with a string ('?') and leave all other cells as they are\n",
    "charges['Billing Month'] = charges['Billing Month'].map(lambda x: '?' if str(x) == 'nan' else str(x))\n",
    "charges['Date In'] = charges['Date In'].map(lambda x: '?' if str(x) == 'nan' else x)"
   ]
  },
  {
   "cell_type": "markdown",
   "metadata": {},
   "source": [
    "##### 2. Clean up `'Date In'` columns"
   ]
  },
  {
   "cell_type": "code",
   "execution_count": null,
   "metadata": {},
   "outputs": [],
   "source": [
    "import re"
   ]
  },
  {
   "cell_type": "code",
   "execution_count": null,
   "metadata": {},
   "outputs": [],
   "source": [
    "# Clean up 'Date In' column\n",
    "for i in range(len(charges)):\n",
    "    \n",
    "    c = charges['Date In'][i]\n",
    "    charges['Date In'][i] = re.sub('\\s+', ' ', c).strip().split(' ')\n",
    "    \n",
    "    if i % 500 == 0:\n",
    "        print(i)"
   ]
  },
  {
   "cell_type": "code",
   "execution_count": null,
   "metadata": {},
   "outputs": [],
   "source": [
    "charges['Date In'].tail(20)"
   ]
  },
  {
   "cell_type": "code",
   "execution_count": null,
   "metadata": {},
   "outputs": [],
   "source": [
    "# Create empty DataFrame (date_in_fix) with identical index to charges DataFrame\n",
    "date_in_fix = pd.DataFrame(columns = ['Date In - 1', 'Date In - 2', 'Date In - 3', 'Date In - 4', 'Date In - 5'], index=charges.index)\n"
   ]
  },
  {
   "cell_type": "code",
   "execution_count": null,
   "metadata": {},
   "outputs": [],
   "source": [
    "# Populate empty DataFrame with 'Date In' dates\n",
    "for i in range(len(charges)): \n",
    "    if len(charges['Date In'][i]) == 1:\n",
    "        date_in_fix['Date In - 1'][i] = str(charges['Date In'][i][0])\n",
    "    \n",
    "    elif len(charges['Date In'][i]) == 2:\n",
    "        date_in_fix['Date In - 1'][i] = str(charges['Date In'][i][0])\n",
    "        date_in_fix['Date In - 2'][i] = str(charges['Date In'][i][1])\n",
    "    \n",
    "    elif len(charges['Date In'][i]) == 3:\n",
    "        date_in_fix['Date In - 1'][i] = str(charges['Date In'][i][0])\n",
    "        date_in_fix['Date In - 2'][i] = str(charges['Date In'][i][1])\n",
    "        date_in_fix['Date In - 3'][i] = str(charges['Date In'][i][2])\n",
    "    \n",
    "    elif len(charges['Date In'][i]) == 4:\n",
    "        date_in_fix['Date In - 1'][i] = str(charges['Date In'][i][0])\n",
    "        date_in_fix['Date In - 2'][i] = str(charges['Date In'][i][1])\n",
    "        date_in_fix['Date In - 3'][i] = str(charges['Date In'][i][2])\n",
    "        date_in_fix['Date In - 4'][i] = str(charges['Date In'][i][3])\n",
    "        \n",
    "    elif len(charges['Date In'][i]) >= 5:\n",
    "        date_in_fix['Date In - 1'][i] = str(charges['Date In'][i][0])\n",
    "        date_in_fix['Date In - 2'][i] = str(charges['Date In'][i][1])\n",
    "        date_in_fix['Date In - 3'][i] = str(charges['Date In'][i][2])\n",
    "        date_in_fix['Date In - 4'][i] = str(charges['Date In'][i][3])\n",
    "        date_in_fix['Date In - 5'][i] = str(charges['Date In'][i][4])\n",
    "    \n",
    "    else:\n",
    "        pass"
   ]
  },
  {
   "cell_type": "code",
   "execution_count": null,
   "metadata": {},
   "outputs": [],
   "source": [
    "# Check for nulls\n",
    "date_in_fix[date_in_fix['Date In - 1'].isnull()]"
   ]
  },
  {
   "cell_type": "code",
   "execution_count": null,
   "metadata": {},
   "outputs": [],
   "source": [
    "# Concatenate charges and date_in_fix\n",
    "charges = pd.concat([charges, date_in_fix], axis=1)"
   ]
  },
  {
   "cell_type": "code",
   "execution_count": null,
   "metadata": {
    "scrolled": false
   },
   "outputs": [],
   "source": [
    "charges[['Date In - 1', 'Date In - 2', 'Date In - 3', 'Date In - 4', 'Date In - 5']].tail(20)"
   ]
  },
  {
   "cell_type": "markdown",
   "metadata": {},
   "source": [
    "##### 3. Get month numbers "
   ]
  },
  {
   "cell_type": "code",
   "execution_count": null,
   "metadata": {},
   "outputs": [],
   "source": [
    "from datetime import datetime"
   ]
  },
  {
   "cell_type": "code",
   "execution_count": null,
   "metadata": {},
   "outputs": [],
   "source": [
    "# Create function that will yield the corresponding number to the 'Billing Month'\n",
    "def month_bill(x):\n",
    "    d = datetime.strptime(x, '%B')\n",
    "    if x != '?':\n",
    "        return int(d.strftime('%m'))\n",
    "    else:\n",
    "        return x"
   ]
  },
  {
   "cell_type": "code",
   "execution_count": null,
   "metadata": {},
   "outputs": [],
   "source": [
    "# Create new column with 'Billing Month' converted into corresponding number (int) if doesn't equal '?'\n",
    "# Using month_bill function from above\n",
    "charges['Bill_Month_num'] = charges['Billing Month'].map(lambda x: month_bill(x) if x != '?' else x)"
   ]
  },
  {
   "cell_type": "code",
   "execution_count": null,
   "metadata": {},
   "outputs": [],
   "source": [
    "# Create function that will yield the corresponding number to the 'Date In'\n",
    "def month_datein(x):\n",
    "    # Using try/except here in case there are any weird strings that don't fit the format I define below\n",
    "    try: \n",
    "        d = datetime.strptime(x, '%m/%d/%y')\n",
    "        if x != '?':\n",
    "            return int(d.strftime('%m'))\n",
    "    except:\n",
    "        d = datetime.strptime(x, '%m/%d/%Y')\n",
    "        if x!= '?':\n",
    "            return int(d.strftime('%m'))"
   ]
  },
  {
   "cell_type": "code",
   "execution_count": null,
   "metadata": {},
   "outputs": [],
   "source": [
    "# Create new column with 'Date In' converted into corresponding number (int) if doesn't equal '?'\n",
    "# Using month2 function from above\n",
    "charges['Date_In_num'] = charges['Date In - 1'].map(lambda x: month_datein(x) if x != '?' else x)"
   ]
  },
  {
   "cell_type": "code",
   "execution_count": null,
   "metadata": {},
   "outputs": [],
   "source": [
    "charges[['Billing Month', 'Bill_Month_num', 'Date In - 1', 'Date_In_num']].head()"
   ]
  },
  {
   "cell_type": "code",
   "execution_count": null,
   "metadata": {},
   "outputs": [],
   "source": [
    "# Find the rows where the month values don't match\n",
    "non_match = charges[['Billing Month', 'Bill_Month_num', 'Date In - 1', 'Date In - 2', 'Date_In_num']][charges['Bill_Month_num'] != charges['Date_In_num']]\n"
   ]
  },
  {
   "cell_type": "code",
   "execution_count": null,
   "metadata": {
    "scrolled": true
   },
   "outputs": [],
   "source": [
    "# Find how many rows out of the whole dataset have mismatching months\n",
    "len(non_match)"
   ]
  },
  {
   "cell_type": "code",
   "execution_count": null,
   "metadata": {
    "scrolled": true
   },
   "outputs": [],
   "source": [
    "# Show records where 'Billing Month' does not match the month of the 'Date In'\n",
    "non_match.head(10)\n",
    "# non_match"
   ]
  },
  {
   "cell_type": "markdown",
   "metadata": {},
   "source": [
    "***Answer:*** After cleaning the data to an extent, I've found two patterns concerning the rows containing months that \"don't match\":\n",
    "\n",
    "1. `'Bill_Month_num'` = `'?'` when `'Date_In_num'` is some integer \n",
    "\n",
    "*Example:* `charges.iloc[26]`"
   ]
  },
  {
   "cell_type": "code",
   "execution_count": null,
   "metadata": {},
   "outputs": [],
   "source": [
    "charges[['Bill_Month_num', 'Date_In_num']].iloc[26]"
   ]
  },
  {
   "cell_type": "code",
   "execution_count": null,
   "metadata": {
    "scrolled": true
   },
   "outputs": [],
   "source": [
    "non_match[non_match['Billing Month'] == '?']"
   ]
  },
  {
   "cell_type": "markdown",
   "metadata": {},
   "source": [
    "2. `'Bill_Month_num'` and `'Date_In_num'` are both integers but don't match.\n",
    "*Example:* `charges.iloc[399]`"
   ]
  },
  {
   "cell_type": "code",
   "execution_count": null,
   "metadata": {},
   "outputs": [],
   "source": [
    "charges[['Bill_Month_num', 'Date_In_num']].iloc[399]"
   ]
  },
  {
   "cell_type": "markdown",
   "metadata": {},
   "source": [
    "The rows where the `'Billing Month'` does NOT match the `'Date In'` month are those in which the the `'Billing Month'` either isn't reflecting the month of the **most recent** `'Date In'` or is just straight-up incorrect!\n",
    "\n",
    "It would obviously take additional research to figure out why some of the `'Bill_Month_num'` rows contained nulls (i.e. '?')."
   ]
  },
  {
   "cell_type": "code",
   "execution_count": null,
   "metadata": {},
   "outputs": [],
   "source": [
    " non_match[non_match['Billing Month'] != '?']"
   ]
  },
  {
   "cell_type": "markdown",
   "metadata": {},
   "source": [
    "## -------------------------------------------------------------------"
   ]
  },
  {
   "cell_type": "markdown",
   "metadata": {},
   "source": [
    "### Question 6"
   ]
  },
  {
   "cell_type": "markdown",
   "metadata": {},
   "source": [
    "*Question: Create a combined list of all non-zero embryo and egg records (so we can track embryo and egg records separately).*"
   ]
  },
  {
   "cell_type": "markdown",
   "metadata": {},
   "source": [
    "##### 1. Clean `'# Embryos'` column"
   ]
  },
  {
   "cell_type": "code",
   "execution_count": null,
   "metadata": {},
   "outputs": [],
   "source": [
    "# Check datatypes\n",
    "charges[['# Embryos', '# Oocytes']].dtypes"
   ]
  },
  {
   "cell_type": "code",
   "execution_count": null,
   "metadata": {},
   "outputs": [],
   "source": [
    "# Find any strings that aren't pure numbers\n",
    "bad_string = []\n",
    "for i in range(len(charges)):\n",
    "    try:\n",
    "        if len(charges['# Embryos'][i]) > 2:\n",
    "            bad_string.append(i)\n",
    "        else:\n",
    "            pass\n",
    "    except:\n",
    "        pass"
   ]
  },
  {
   "cell_type": "code",
   "execution_count": null,
   "metadata": {},
   "outputs": [],
   "source": [
    "bad_string"
   ]
  },
  {
   "cell_type": "code",
   "execution_count": null,
   "metadata": {},
   "outputs": [],
   "source": [
    "charges[['# Embryos']].iloc[2053]"
   ]
  },
  {
   "cell_type": "markdown",
   "metadata": {},
   "source": [
    "Since this particular row has non-numeric characters, I'll change the value to `'10'` since it says 15 (minus 5). In a real-life scenario, I would double check with the specific clinic to see what the actual value should be if not 10."
   ]
  },
  {
   "cell_type": "code",
   "execution_count": null,
   "metadata": {},
   "outputs": [],
   "source": [
    "charges['# Embryos'].iloc[2053] = '10'"
   ]
  },
  {
   "cell_type": "code",
   "execution_count": null,
   "metadata": {},
   "outputs": [],
   "source": [
    "charges[['# Embryos']].iloc[2053]"
   ]
  },
  {
   "cell_type": "markdown",
   "metadata": {},
   "source": [
    "##### 2. Convert `'# Embryos'` column to dtype = float"
   ]
  },
  {
   "cell_type": "code",
   "execution_count": null,
   "metadata": {},
   "outputs": [],
   "source": [
    "charges['# Embryos'] = charges['# Embryos'].map(lambda x: float(x))"
   ]
  },
  {
   "cell_type": "code",
   "execution_count": null,
   "metadata": {
    "scrolled": true
   },
   "outputs": [],
   "source": [
    "charges[['# Embryos', '# Oocytes']].dtypes"
   ]
  },
  {
   "cell_type": "markdown",
   "metadata": {},
   "source": [
    "##### 3. Create list of non-zero embryo & egg records"
   ]
  },
  {
   "cell_type": "code",
   "execution_count": null,
   "metadata": {},
   "outputs": [],
   "source": [
    "# # Find all rows where '# Embryos' OR '# Oocytes' are NOT 0\n",
    "# charges[(charges['# Embryos'] != 0) | (charges['# Oocytes'] != 0)]"
   ]
  },
  {
   "cell_type": "code",
   "execution_count": null,
   "metadata": {},
   "outputs": [],
   "source": [
    "# Create separate lists of row ids to reflect the possibility of there being two differeny records for one 'EMR'\n",
    "embryos = list(charges[charges['# Embryos'] != 0].index)\n",
    "oocytes = list(charges[charges['# Oocytes'] != 0].index)"
   ]
  },
  {
   "cell_type": "code",
   "execution_count": null,
   "metadata": {},
   "outputs": [],
   "source": [
    "# Gather embryo records into DataFrame\n",
    "em = charges[['EMR', 'Full Name', '# Embryos', 'Date In - 1', 'Date_In_num']].loc[embryos]\n",
    "em['Type'] = 'embryo'\n",
    "em.rename(columns={'# Embryos':'#'}, inplace=True)\n",
    "em.reset_index(inplace=True, drop=True)"
   ]
  },
  {
   "cell_type": "code",
   "execution_count": null,
   "metadata": {},
   "outputs": [],
   "source": [
    "# Gather oocyte records into DataFrame\n",
    "oo = charges[['EMR', 'Full Name', '# Oocytes', 'Date In - 1', 'Date_In_num']].loc[oocytes]\n",
    "oo['Type'] = 'oocyte'\n",
    "oo.rename(columns={'# Oocytes':'#'}, inplace=True)\n",
    "oo.reset_index(inplace=True, drop=True)"
   ]
  },
  {
   "cell_type": "code",
   "execution_count": null,
   "metadata": {},
   "outputs": [],
   "source": [
    "# Concat the two tables\n",
    "non_zero_records = pd.concat([em, oo])\n",
    "non_zero_records.reset_index(inplace=True, drop=True)"
   ]
  },
  {
   "cell_type": "code",
   "execution_count": null,
   "metadata": {
    "scrolled": false
   },
   "outputs": [],
   "source": [
    "# Reformat table\n",
    "all_tissue = non_zero_records[['EMR', 'Full Name', 'Type', '#', 'Date In - 1', 'Date_In_num']]"
   ]
  },
  {
   "cell_type": "markdown",
   "metadata": {},
   "source": [
    "***Answer:***"
   ]
  },
  {
   "cell_type": "code",
   "execution_count": null,
   "metadata": {},
   "outputs": [],
   "source": [
    "all_tissue.head(10)"
   ]
  },
  {
   "cell_type": "code",
   "execution_count": null,
   "metadata": {},
   "outputs": [],
   "source": [
    "# Example of two separate records for the same EMR\n",
    "all_tissue[all_tissue['EMR'] == 668790.0]"
   ]
  },
  {
   "cell_type": "markdown",
   "metadata": {},
   "source": [
    "## -------------------------------------------------------------------"
   ]
  },
  {
   "cell_type": "markdown",
   "metadata": {},
   "source": [
    "### Question 7"
   ]
  },
  {
   "cell_type": "markdown",
   "metadata": {},
   "source": [
    "*Question: Given the list from question 6, within each specimen type, the clinic has decided to charge each patient only for their oldest record (based on the 'Date In'). In addition, some records have been highlighted in red and should not be billed.* \n",
    "\n",
    "*Identify all records as billable or non-billable.*"
   ]
  },
  {
   "cell_type": "markdown",
   "metadata": {},
   "source": [
    "##### 1. Check for duplicates and nulls"
   ]
  },
  {
   "cell_type": "code",
   "execution_count": null,
   "metadata": {},
   "outputs": [],
   "source": [
    "# # Check for null Last Name in red_rows --> no nulls\n",
    "# red_rows[red_rows['Full Name'].isnull()]"
   ]
  },
  {
   "cell_type": "code",
   "execution_count": null,
   "metadata": {},
   "outputs": [],
   "source": [
    "# # Check for duplicate Last Name in red_rows --> no dups\n",
    "# red_rows[red_rows['Full Name'].duplicated() == True]"
   ]
  },
  {
   "cell_type": "code",
   "execution_count": null,
   "metadata": {},
   "outputs": [],
   "source": [
    "# # Check for null Last Name in all_tissue --> no nulls\n",
    "# all_tissue[all_tissue['Full Name'].isnull()]"
   ]
  },
  {
   "cell_type": "code",
   "execution_count": null,
   "metadata": {},
   "outputs": [],
   "source": [
    "# # Check for duplicate Last Name in all_tissue\n",
    "# all_tissue[all_tissue['Full Name'].duplicated() == True]"
   ]
  },
  {
   "cell_type": "code",
   "execution_count": null,
   "metadata": {},
   "outputs": [],
   "source": [
    "full_name_dups = list(all_tissue[all_tissue['Full Name'].duplicated() == True]['Full Name'])\n"
   ]
  },
  {
   "cell_type": "markdown",
   "metadata": {},
   "source": [
    "##### 2. Identify/label non-billable rows"
   ]
  },
  {
   "cell_type": "code",
   "execution_count": null,
   "metadata": {
    "scrolled": false
   },
   "outputs": [],
   "source": [
    "all_tissue['Billable'] = None"
   ]
  },
  {
   "cell_type": "code",
   "execution_count": null,
   "metadata": {},
   "outputs": [],
   "source": [
    "red = list(red_rows['Full Name'])"
   ]
  },
  {
   "cell_type": "markdown",
   "metadata": {},
   "source": [
    "(The following code takes a minute to run)"
   ]
  },
  {
   "cell_type": "code",
   "execution_count": null,
   "metadata": {
    "scrolled": true
   },
   "outputs": [],
   "source": [
    "# If corresponding to a red row, NOT billable --> 0\n",
    "# If not corresponding to a red row, billable --> 1\n",
    "for i in range(len(all_tissue)):\n",
    "    if all_tissue['Full Name'][i] in red:\n",
    "        all_tissue['Billable'].iloc[i] = 0 # i.e. not-billable\n",
    "    else:\n",
    "        all_tissue['Billable'].iloc[i] = 1 # i.e. billable"
   ]
  },
  {
   "cell_type": "code",
   "execution_count": null,
   "metadata": {
    "scrolled": true
   },
   "outputs": [],
   "source": [
    "# Verify new 'Billable' column\n",
    "all_tissue[all_tissue['Billable'] == 0].head()"
   ]
  },
  {
   "cell_type": "code",
   "execution_count": null,
   "metadata": {},
   "outputs": [],
   "source": [
    "all_tissue.tail(10)\n",
    "# all_tissue"
   ]
  },
  {
   "cell_type": "markdown",
   "metadata": {},
   "source": [
    "## -------------------------------------------------------------------"
   ]
  },
  {
   "cell_type": "markdown",
   "metadata": {},
   "source": [
    "### Question 8"
   ]
  },
  {
   "cell_type": "markdown",
   "metadata": {},
   "source": [
    "*Question: Given the list of billable from question 7, calculate the number of records that will be billed in each month (assuming records are billed once a year on their `'Date In'` anniversary.*"
   ]
  },
  {
   "cell_type": "code",
   "execution_count": null,
   "metadata": {},
   "outputs": [],
   "source": [
    "import matplotlib, matplotlib.pyplot as plt\n",
    "import seaborn as sns\n",
    "\n",
    "%matplotlib inline\n",
    "%config InlineBackend.figure_format = 'retina'"
   ]
  },
  {
   "cell_type": "code",
   "execution_count": null,
   "metadata": {},
   "outputs": [],
   "source": [
    "billable = all_tissue[all_tissue['Billable'] == 1]"
   ]
  },
  {
   "cell_type": "code",
   "execution_count": null,
   "metadata": {},
   "outputs": [],
   "source": [
    "def monthly_bill_count(month_num):\n",
    "    return len(billable[billable['Date_In_num'] == month_num])\n"
   ]
  },
  {
   "cell_type": "code",
   "execution_count": null,
   "metadata": {},
   "outputs": [],
   "source": [
    "x = ['JAN', \n",
    "     'FEB', \n",
    "     'MAR', \n",
    "     'APR', \n",
    "     'MAY', \n",
    "     'JUNE', \n",
    "     'JULY', \n",
    "     'AUG', \n",
    "     'SEP', \n",
    "     'OCT', \n",
    "     'NOV', \n",
    "     'DEC', \n",
    "     'Unknown']\n",
    "\n",
    "y = [monthly_bill_count(1),\n",
    "    monthly_bill_count(2),\n",
    "    monthly_bill_count(3),\n",
    "    monthly_bill_count(4),\n",
    "    monthly_bill_count(5),\n",
    "    monthly_bill_count(6),\n",
    "    monthly_bill_count(7),\n",
    "    monthly_bill_count(8),\n",
    "    monthly_bill_count(9),\n",
    "    monthly_bill_count(10),\n",
    "    monthly_bill_count(11),\n",
    "    monthly_bill_count(12),\n",
    "    monthly_bill_count('?')]\n"
   ]
  },
  {
   "cell_type": "code",
   "execution_count": null,
   "metadata": {},
   "outputs": [],
   "source": [
    "def show_counts():\n",
    "    for i in range(13):    \n",
    "        print(x[i], ': ', y[i])"
   ]
  },
  {
   "cell_type": "markdown",
   "metadata": {},
   "source": [
    "***Answer: ***"
   ]
  },
  {
   "cell_type": "code",
   "execution_count": null,
   "metadata": {},
   "outputs": [],
   "source": [
    "show_counts()"
   ]
  },
  {
   "cell_type": "code",
   "execution_count": null,
   "metadata": {},
   "outputs": [],
   "source": [
    "plt.figure(figsize=(10, 7))\n",
    "plt.title('# of Billable Records per Month')\n",
    "matplotlib.rc('font', size=11)\n",
    "matplotlib.rc('axes', titlesize=14)\n",
    "sns.barplot(x, y).set_xticklabels(x, rotation=40)\n",
    "\n",
    "plt.show();"
   ]
  }
 ],
 "metadata": {
  "kernelspec": {
   "display_name": "Python 3",
   "language": "python",
   "name": "python3"
  },
  "language_info": {
   "codemirror_mode": {
    "name": "ipython",
    "version": 3
   },
   "file_extension": ".py",
   "mimetype": "text/x-python",
   "name": "python",
   "nbconvert_exporter": "python",
   "pygments_lexer": "ipython3",
   "version": "3.6.5"
  }
 },
 "nbformat": 4,
 "nbformat_minor": 2
}
